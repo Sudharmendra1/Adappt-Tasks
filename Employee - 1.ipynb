{
 "cells": [
  {
   "cell_type": "code",
   "execution_count": 11,
   "id": "fd66a804",
   "metadata": {},
   "outputs": [],
   "source": [
    "import pandas as pd\n",
    "import numpy as np\n",
    "import matplotlib.pyplot as plt\n",
    "import seaborn as sns\n",
    "from sklearn.linear_model import LogisticRegression\n",
    "from sklearn.model_selection import train_test_split, GridSearchCV\n",
    "from sklearn.preprocessing import LabelEncoder, StandardScaler, MinMaxScaler\n",
    "from sklearn.metrics import accuracy_score, roc_curve\n",
    "\n",
    "# Read the CSV files\n",
    "df1 = pd.read_csv('/Users/sudharmendragv/Downloads/Risk Assessment ML Project/inputdata/dataset1.csv')\n",
    "df2 = pd.read_csv('/Users/sudharmendragv/Downloads/Risk Assessment ML Project/inputdata/dataset2.csv')\n",
    "\n",
    "# Combine the two DataFrames\n",
    "combined_df = pd.concat([df1, df2], ignore_index=True)\n",
    "\n",
    "# Write the combined DataFrame to a new CSV file\n",
    "combined_df.to_csv('combined.csv', index=False)\n"
   ]
  },
  {
   "cell_type": "code",
   "execution_count": 12,
   "id": "660a2427",
   "metadata": {},
   "outputs": [
    {
     "data": {
      "text/html": [
       "<div>\n",
       "<style scoped>\n",
       "    .dataframe tbody tr th:only-of-type {\n",
       "        vertical-align: middle;\n",
       "    }\n",
       "\n",
       "    .dataframe tbody tr th {\n",
       "        vertical-align: top;\n",
       "    }\n",
       "\n",
       "    .dataframe thead th {\n",
       "        text-align: right;\n",
       "    }\n",
       "</style>\n",
       "<table border=\"1\" class=\"dataframe\">\n",
       "  <thead>\n",
       "    <tr style=\"text-align: right;\">\n",
       "      <th></th>\n",
       "      <th>corporation</th>\n",
       "      <th>lastmonth_activity</th>\n",
       "      <th>lastyear_activity</th>\n",
       "      <th>number_of_employees</th>\n",
       "      <th>exited</th>\n",
       "    </tr>\n",
       "  </thead>\n",
       "  <tbody>\n",
       "    <tr>\n",
       "      <th>0</th>\n",
       "      <td>nciw</td>\n",
       "      <td>100</td>\n",
       "      <td>1359</td>\n",
       "      <td>1</td>\n",
       "      <td>0</td>\n",
       "    </tr>\n",
       "    <tr>\n",
       "      <th>1</th>\n",
       "      <td>lsid</td>\n",
       "      <td>68</td>\n",
       "      <td>282</td>\n",
       "      <td>14</td>\n",
       "      <td>0</td>\n",
       "    </tr>\n",
       "    <tr>\n",
       "      <th>2</th>\n",
       "      <td>pwls</td>\n",
       "      <td>71</td>\n",
       "      <td>949</td>\n",
       "      <td>40</td>\n",
       "      <td>1</td>\n",
       "    </tr>\n",
       "    <tr>\n",
       "      <th>3</th>\n",
       "      <td>bqlx</td>\n",
       "      <td>686</td>\n",
       "      <td>3782</td>\n",
       "      <td>103</td>\n",
       "      <td>0</td>\n",
       "    </tr>\n",
       "    <tr>\n",
       "      <th>4</th>\n",
       "      <td>zmei</td>\n",
       "      <td>45</td>\n",
       "      <td>655</td>\n",
       "      <td>7</td>\n",
       "      <td>0</td>\n",
       "    </tr>\n",
       "  </tbody>\n",
       "</table>\n",
       "</div>"
      ],
      "text/plain": [
       "  corporation  lastmonth_activity  lastyear_activity  number_of_employees  \\\n",
       "0        nciw                 100               1359                    1   \n",
       "1        lsid                  68                282                   14   \n",
       "2        pwls                  71                949                   40   \n",
       "3        bqlx                 686               3782                  103   \n",
       "4        zmei                  45                655                    7   \n",
       "\n",
       "   exited  \n",
       "0       0  \n",
       "1       0  \n",
       "2       1  \n",
       "3       0  \n",
       "4       0  "
      ]
     },
     "execution_count": 12,
     "metadata": {},
     "output_type": "execute_result"
    }
   ],
   "source": [
    "combined_df.head()"
   ]
  },
  {
   "cell_type": "code",
   "execution_count": 13,
   "id": "57c1ca06",
   "metadata": {},
   "outputs": [
    {
     "data": {
      "text/html": [
       "<div>\n",
       "<style scoped>\n",
       "    .dataframe tbody tr th:only-of-type {\n",
       "        vertical-align: middle;\n",
       "    }\n",
       "\n",
       "    .dataframe tbody tr th {\n",
       "        vertical-align: top;\n",
       "    }\n",
       "\n",
       "    .dataframe thead th {\n",
       "        text-align: right;\n",
       "    }\n",
       "</style>\n",
       "<table border=\"1\" class=\"dataframe\">\n",
       "  <thead>\n",
       "    <tr style=\"text-align: right;\">\n",
       "      <th></th>\n",
       "      <th>corporation</th>\n",
       "      <th>lastmonth_activity</th>\n",
       "      <th>lastyear_activity</th>\n",
       "      <th>number_of_employees</th>\n",
       "      <th>exited</th>\n",
       "    </tr>\n",
       "  </thead>\n",
       "  <tbody>\n",
       "    <tr>\n",
       "      <th>31</th>\n",
       "      <td>gudj</td>\n",
       "      <td>255</td>\n",
       "      <td>1687</td>\n",
       "      <td>2</td>\n",
       "      <td>0</td>\n",
       "    </tr>\n",
       "    <tr>\n",
       "      <th>32</th>\n",
       "      <td>wosl</td>\n",
       "      <td>0</td>\n",
       "      <td>18</td>\n",
       "      <td>21</td>\n",
       "      <td>1</td>\n",
       "    </tr>\n",
       "    <tr>\n",
       "      <th>33</th>\n",
       "      <td>xcvb</td>\n",
       "      <td>189</td>\n",
       "      <td>961</td>\n",
       "      <td>18</td>\n",
       "      <td>1</td>\n",
       "    </tr>\n",
       "    <tr>\n",
       "      <th>34</th>\n",
       "      <td>dfgh</td>\n",
       "      <td>16</td>\n",
       "      <td>1028</td>\n",
       "      <td>33</td>\n",
       "      <td>0</td>\n",
       "    </tr>\n",
       "    <tr>\n",
       "      <th>35</th>\n",
       "      <td>ngrd</td>\n",
       "      <td>9</td>\n",
       "      <td>45</td>\n",
       "      <td>1</td>\n",
       "      <td>1</td>\n",
       "    </tr>\n",
       "  </tbody>\n",
       "</table>\n",
       "</div>"
      ],
      "text/plain": [
       "   corporation  lastmonth_activity  lastyear_activity  number_of_employees  \\\n",
       "31        gudj                 255               1687                    2   \n",
       "32        wosl                   0                 18                   21   \n",
       "33        xcvb                 189                961                   18   \n",
       "34        dfgh                  16               1028                   33   \n",
       "35        ngrd                   9                 45                    1   \n",
       "\n",
       "    exited  \n",
       "31       0  \n",
       "32       1  \n",
       "33       1  \n",
       "34       0  \n",
       "35       1  "
      ]
     },
     "execution_count": 13,
     "metadata": {},
     "output_type": "execute_result"
    }
   ],
   "source": [
    "combined_df.tail()"
   ]
  },
  {
   "cell_type": "code",
   "execution_count": 14,
   "id": "b5a8c894",
   "metadata": {},
   "outputs": [
    {
     "data": {
      "text/html": [
       "<div>\n",
       "<style scoped>\n",
       "    .dataframe tbody tr th:only-of-type {\n",
       "        vertical-align: middle;\n",
       "    }\n",
       "\n",
       "    .dataframe tbody tr th {\n",
       "        vertical-align: top;\n",
       "    }\n",
       "\n",
       "    .dataframe thead th {\n",
       "        text-align: right;\n",
       "    }\n",
       "</style>\n",
       "<table border=\"1\" class=\"dataframe\">\n",
       "  <thead>\n",
       "    <tr style=\"text-align: right;\">\n",
       "      <th></th>\n",
       "      <th>lastmonth_activity</th>\n",
       "      <th>lastyear_activity</th>\n",
       "      <th>number_of_employees</th>\n",
       "      <th>exited</th>\n",
       "    </tr>\n",
       "  </thead>\n",
       "  <tbody>\n",
       "    <tr>\n",
       "      <th>count</th>\n",
       "      <td>36.000000</td>\n",
       "      <td>36.000000</td>\n",
       "      <td>36.000000</td>\n",
       "      <td>36.000000</td>\n",
       "    </tr>\n",
       "    <tr>\n",
       "      <th>mean</th>\n",
       "      <td>169.388889</td>\n",
       "      <td>1310.972222</td>\n",
       "      <td>29.555556</td>\n",
       "      <td>0.611111</td>\n",
       "    </tr>\n",
       "    <tr>\n",
       "      <th>std</th>\n",
       "      <td>293.002124</td>\n",
       "      <td>1920.658049</td>\n",
       "      <td>33.142501</td>\n",
       "      <td>0.494413</td>\n",
       "    </tr>\n",
       "    <tr>\n",
       "      <th>min</th>\n",
       "      <td>0.000000</td>\n",
       "      <td>18.000000</td>\n",
       "      <td>1.000000</td>\n",
       "      <td>0.000000</td>\n",
       "    </tr>\n",
       "    <tr>\n",
       "      <th>25%</th>\n",
       "      <td>15.500000</td>\n",
       "      <td>363.000000</td>\n",
       "      <td>7.750000</td>\n",
       "      <td>0.000000</td>\n",
       "    </tr>\n",
       "    <tr>\n",
       "      <th>50%</th>\n",
       "      <td>73.000000</td>\n",
       "      <td>908.500000</td>\n",
       "      <td>16.000000</td>\n",
       "      <td>1.000000</td>\n",
       "    </tr>\n",
       "    <tr>\n",
       "      <th>75%</th>\n",
       "      <td>121.250000</td>\n",
       "      <td>1472.500000</td>\n",
       "      <td>36.250000</td>\n",
       "      <td>1.000000</td>\n",
       "    </tr>\n",
       "    <tr>\n",
       "      <th>max</th>\n",
       "      <td>1090.000000</td>\n",
       "      <td>10983.000000</td>\n",
       "      <td>103.000000</td>\n",
       "      <td>1.000000</td>\n",
       "    </tr>\n",
       "  </tbody>\n",
       "</table>\n",
       "</div>"
      ],
      "text/plain": [
       "       lastmonth_activity  lastyear_activity  number_of_employees     exited\n",
       "count           36.000000          36.000000            36.000000  36.000000\n",
       "mean           169.388889        1310.972222            29.555556   0.611111\n",
       "std            293.002124        1920.658049            33.142501   0.494413\n",
       "min              0.000000          18.000000             1.000000   0.000000\n",
       "25%             15.500000         363.000000             7.750000   0.000000\n",
       "50%             73.000000         908.500000            16.000000   1.000000\n",
       "75%            121.250000        1472.500000            36.250000   1.000000\n",
       "max           1090.000000       10983.000000           103.000000   1.000000"
      ]
     },
     "execution_count": 14,
     "metadata": {},
     "output_type": "execute_result"
    }
   ],
   "source": [
    "combined_df.describe()"
   ]
  },
  {
   "cell_type": "code",
   "execution_count": 15,
   "id": "2170888e",
   "metadata": {},
   "outputs": [
    {
     "data": {
      "text/plain": [
       "corporation            0\n",
       "lastmonth_activity     0\n",
       "lastyear_activity      0\n",
       "number_of_employees    0\n",
       "exited                 0\n",
       "dtype: int64"
      ]
     },
     "execution_count": 15,
     "metadata": {},
     "output_type": "execute_result"
    }
   ],
   "source": [
    "combined_df.isnull().sum() # Checking the null values"
   ]
  },
  {
   "cell_type": "code",
   "execution_count": 16,
   "id": "afb4525f",
   "metadata": {},
   "outputs": [
    {
     "data": {
      "text/plain": [
       "<bound method DataFrame.info of    corporation  lastmonth_activity  lastyear_activity  number_of_employees  \\\n",
       "0         nciw                 100               1359                    1   \n",
       "1         lsid                  68                282                   14   \n",
       "2         pwls                  71                949                   40   \n",
       "3         bqlx                 686               3782                  103   \n",
       "4         zmei                  45                655                    7   \n",
       "5         wosl                   0                 18                   21   \n",
       "6         xcvb                 189                961                   18   \n",
       "7         dfgh                  16               1028                   33   \n",
       "8         ngrd                   9                 45                    1   \n",
       "9         xful                   0                 67                   14   \n",
       "10        kshe                  48                986                   22   \n",
       "11        qqqq                  52                650                   11   \n",
       "12        corp                1090               2452                    9   \n",
       "13        ekci                   6                 88                   90   \n",
       "14        dosk                  99                390                   99   \n",
       "15        endi                  75                800                   81   \n",
       "16        gudj                 255               1687                    2   \n",
       "17        abcd                  78               1024                   12   \n",
       "18        asdf                  14               2145                   20   \n",
       "19        xyzz                 182               3891                   35   \n",
       "20        acme                 101              10983                    2   \n",
       "21        qwer                   0                118                   42   \n",
       "22        tyui                 929               1992                    1   \n",
       "23        zxcv                  19                455                    8   \n",
       "24        hjkl                  94                868                    3   \n",
       "25        lmno                  81               1401                   10   \n",
       "26        qqqq                  52                650                   11   \n",
       "27        corp                1090               2452                    9   \n",
       "28        ekci                   6                 88                   90   \n",
       "29        dosk                  99                390                   99   \n",
       "30        endi                  75                800                   81   \n",
       "31        gudj                 255               1687                    2   \n",
       "32        wosl                   0                 18                   21   \n",
       "33        xcvb                 189                961                   18   \n",
       "34        dfgh                  16               1028                   33   \n",
       "35        ngrd                   9                 45                    1   \n",
       "\n",
       "    exited  \n",
       "0        0  \n",
       "1        0  \n",
       "2        1  \n",
       "3        0  \n",
       "4        0  \n",
       "5        1  \n",
       "6        1  \n",
       "7        0  \n",
       "8        1  \n",
       "9        1  \n",
       "10       1  \n",
       "11       1  \n",
       "12       0  \n",
       "13       1  \n",
       "14       1  \n",
       "15       1  \n",
       "16       0  \n",
       "17       1  \n",
       "18       0  \n",
       "19       0  \n",
       "20       1  \n",
       "21       1  \n",
       "22       0  \n",
       "23       1  \n",
       "24       1  \n",
       "25       0  \n",
       "26       1  \n",
       "27       0  \n",
       "28       1  \n",
       "29       1  \n",
       "30       1  \n",
       "31       0  \n",
       "32       1  \n",
       "33       1  \n",
       "34       0  \n",
       "35       1  >"
      ]
     },
     "execution_count": 16,
     "metadata": {},
     "output_type": "execute_result"
    }
   ],
   "source": [
    "combined_df.info"
   ]
  },
  {
   "cell_type": "code",
   "execution_count": 17,
   "id": "242b3afe",
   "metadata": {},
   "outputs": [
    {
     "name": "stdout",
     "output_type": "stream",
     "text": [
      "corporation:26\n",
      "lastmonth_activity:24\n",
      "lastyear_activity:26\n",
      "number_of_employees:22\n",
      "exited:2\n"
     ]
    }
   ],
   "source": [
    "for i in (combined_df.columns):\n",
    "    print(\"{}:{}\".format(i, combined_df[i].value_counts().shape[0])) # Printing the unique values for each columns"
   ]
  },
  {
   "cell_type": "code",
   "execution_count": 18,
   "id": "ff3a961f",
   "metadata": {},
   "outputs": [
    {
     "data": {
      "text/plain": [
       "Index(['corporation', 'lastmonth_activity', 'lastyear_activity',\n",
       "       'number_of_employees', 'exited'],\n",
       "      dtype='object')"
      ]
     },
     "execution_count": 18,
     "metadata": {},
     "output_type": "execute_result"
    }
   ],
   "source": [
    "combined_df.columns"
   ]
  },
  {
   "cell_type": "code",
   "execution_count": 19,
   "id": "003187d3",
   "metadata": {},
   "outputs": [
    {
     "name": "stdout",
     "output_type": "stream",
     "text": [
      "<class 'pandas.core.frame.DataFrame'>\n",
      "RangeIndex: 36 entries, 0 to 35\n",
      "Data columns (total 5 columns):\n",
      " #   Column               Non-Null Count  Dtype \n",
      "---  ------               --------------  ----- \n",
      " 0   corporation          36 non-null     object\n",
      " 1   lastmonth_activity   36 non-null     int64 \n",
      " 2   lastyear_activity    36 non-null     int64 \n",
      " 3   number_of_employees  36 non-null     int64 \n",
      " 4   exited               36 non-null     int64 \n",
      "dtypes: int64(4), object(1)\n",
      "memory usage: 1.5+ KB\n"
     ]
    }
   ],
   "source": [
    "combined_df.info()"
   ]
  },
  {
   "cell_type": "code",
   "execution_count": 20,
   "id": "01728ff5",
   "metadata": {},
   "outputs": [],
   "source": [
    "combined_df.duplicated().sum()\n",
    "combined_df = combined_df.drop_duplicates()\n",
    "num_duplicates = np.sum(combined_df.duplicated())\n"
   ]
  },
  {
   "cell_type": "code",
   "execution_count": 21,
   "id": "83745b60",
   "metadata": {},
   "outputs": [
    {
     "name": "stdout",
     "output_type": "stream",
     "text": [
      "Number of duplicates: 0\n"
     ]
    }
   ],
   "source": [
    "print(f'Number of duplicates: {num_duplicates}')\n"
   ]
  },
  {
   "cell_type": "code",
   "execution_count": 22,
   "id": "d7555669",
   "metadata": {},
   "outputs": [
    {
     "data": {
      "image/png": "[encoded data removed]",
      "text/plain": [
       "<Figure size 720x720 with 4 Axes>"
      ]
     },
     "metadata": {
      "needs_background": "light"
     },
     "output_type": "display_data"
    }
   ],
   "source": [
    "x = combined_df.hist(figsize = (10,10)) # Histogram of all the parameters"
   ]
  },
  {
   "cell_type": "code",
   "execution_count": 23,
   "id": "d47d263c",
   "metadata": {},
   "outputs": [
    {
     "data": {
      "image/png": "[encoded data removed]",
      "text/plain": [
       "<Figure size 288x288 with 2 Axes>"
      ]
     },
     "metadata": {
      "needs_background": "light"
     },
     "output_type": "display_data"
    }
   ],
   "source": [
    "import scipy\n",
    "from scipy import stats\n",
    "import warnings\n",
    "\n",
    "warnings.filterwarnings('ignore')\n",
    "# Correlation chart colorbar\n",
    "plt.matshow(combined_df.corr())\n",
    "plt.colorbar()\n",
    "plt.show()"
   ]
  },
  {
   "cell_type": "code",
   "execution_count": 24,
   "id": "287e39c0",
   "metadata": {},
   "outputs": [
    {
     "data": {
      "image/png": "[encoded data removed]",
      "text/plain": [
       "<Figure size 432x288 with 1 Axes>"
      ]
     },
     "metadata": {
      "needs_background": "light"
     },
     "output_type": "display_data"
    }
   ],
   "source": [
    "sns.distplot(a=combined_df[\"lastmonth_activity\"]);"
   ]
  },
  {
   "cell_type": "code",
   "execution_count": 25,
   "id": "bd9eaa55",
   "metadata": {},
   "outputs": [
    {
     "data": {
      "image/png": "[encoded data removed]",
      "text/plain": [
       "<Figure size 432x288 with 1 Axes>"
      ]
     },
     "metadata": {
      "needs_background": "light"
     },
     "output_type": "display_data"
    }
   ],
   "source": [
    "sns.distplot(a=combined_df[\"lastyear_activity\"]);"
   ]
  },
  {
   "cell_type": "code",
   "execution_count": 26,
   "id": "8501ab06",
   "metadata": {},
   "outputs": [
    {
     "data": {
      "image/png": "[encoded data removed]",
      "text/plain": [
       "<Figure size 720x720 with 2 Axes>"
      ]
     },
     "metadata": {
      "needs_background": "light"
     },
     "output_type": "display_data"
    }
   ],
   "source": [
    "# Heatmap values for all the parameters\n",
    "plt.figure(figsize=(10,10))\n",
    "sns.heatmap(combined_df.corr(), annot=True);"
   ]
  },
  {
   "cell_type": "code",
   "execution_count": 27,
   "id": "034dee65",
   "metadata": {},
   "outputs": [
    {
     "data": {
      "image/png": "[encoded data removed]",
      "text/plain": [
       "<Figure size 432x288 with 1 Axes>"
      ]
     },
     "metadata": {
      "needs_background": "light"
     },
     "output_type": "display_data"
    }
   ],
   "source": [
    "sns.countplot(x=\"exited\", data=combined_df);"
   ]
  },
  {
   "cell_type": "code",
   "execution_count": 28,
   "id": "1c124aad",
   "metadata": {},
   "outputs": [
    {
     "data": {
      "image/png": "[encoded data removed]",
      "text/plain": [
       "<Figure size 432x288 with 1 Axes>"
      ]
     },
     "metadata": {
      "needs_background": "light"
     },
     "output_type": "display_data"
    }
   ],
   "source": [
    "x = combined_df.filter(items=['lastmonth_activity', 'lastyear_activity', 'exited']).groupby(['exited']).sum()\n",
    "x.plot.bar(stacked=True)\n",
    "plt.show()"
   ]
  },
  {
   "cell_type": "code",
   "execution_count": 29,
   "id": "6ff2142b",
   "metadata": {},
   "outputs": [
    {
     "data": {
      "text/plain": [
       "<AxesSubplot:xlabel='exited'>"
      ]
     },
     "execution_count": 29,
     "metadata": {},
     "output_type": "execute_result"
    },
    {
     "data": {
      "image/png": "[encoded data removed]",
      "text/plain": [
       "<Figure size 432x288 with 1 Axes>"
      ]
     },
     "metadata": {
      "needs_background": "light"
     },
     "output_type": "display_data"
    }
   ],
   "source": [
    "# Smoking with COPD\n",
    "x = combined_df['lastmonth_activity'].groupby(combined_df['exited'])\n",
    "x.sum().plot(kind='bar')"
   ]
  },
  {
   "cell_type": "code",
   "execution_count": 30,
   "id": "839c17d8",
   "metadata": {},
   "outputs": [
    {
     "data": {
      "text/plain": [
       "<AxesSubplot:xlabel='exited'>"
      ]
     },
     "execution_count": 30,
     "metadata": {},
     "output_type": "execute_result"
    },
    {
     "data": {
      "image/png": "[encoded data removed]",
      "text/plain": [
       "<Figure size 432x288 with 1 Axes>"
      ]
     },
     "metadata": {
      "needs_background": "light"
     },
     "output_type": "display_data"
    }
   ],
   "source": [
    "# Smoking with COPD\n",
    "x = combined_df['number_of_employees'].groupby(combined_df['exited'])\n",
    "x.sum().plot(kind='bar')"
   ]
  },
  {
   "cell_type": "code",
   "execution_count": 31,
   "id": "67bfb08d",
   "metadata": {},
   "outputs": [
    {
     "data": {
      "image/png": "[encoded data removed]",
      "text/plain": [
       "<Figure size 432x288 with 1 Axes>"
      ]
     },
     "metadata": {
      "needs_background": "light"
     },
     "output_type": "display_data"
    }
   ],
   "source": [
    "sns.distplot(a=combined_df[\"number_of_employees\"]);"
   ]
  },
  {
   "cell_type": "code",
   "execution_count": 32,
   "id": "ae35420a",
   "metadata": {},
   "outputs": [
    {
     "data": {
      "image/png": "[encoded data removed]",
      "text/plain": [
       "<Figure size 1080x1080 with 1 Axes>"
      ]
     },
     "metadata": {
      "needs_background": "light"
     },
     "output_type": "display_data"
    }
   ],
   "source": [
    "plt.figure(figsize=(15, 15))\n",
    "sns.stripplot(data=combined_df, x='corporation', y='number_of_employees')\n",
    "plt.title('Number of employees in specific corporation')\n",
    "plt.xlabel('Corporation')\n",
    "plt.ylabel('Number of employees')\n",
    "plt.show()\n",
    "\n"
   ]
  },
  {
   "cell_type": "code",
   "execution_count": 33,
   "id": "0689db11",
   "metadata": {},
   "outputs": [],
   "source": [
    "combined_df.drop(['corporation'], axis=1, inplace=True) "
   ]
  },
  {
   "cell_type": "code",
   "execution_count": 34,
   "id": "20e5c644",
   "metadata": {},
   "outputs": [
    {
     "data": {
      "text/plain": [
       "Index(['lastmonth_activity', 'lastyear_activity', 'number_of_employees',\n",
       "       'exited'],\n",
       "      dtype='object')"
      ]
     },
     "execution_count": 34,
     "metadata": {},
     "output_type": "execute_result"
    }
   ],
   "source": [
    "combined_df.columns"
   ]
  },
  {
   "cell_type": "code",
   "execution_count": 35,
   "id": "6f0dcc98",
   "metadata": {},
   "outputs": [
    {
     "name": "stdout",
     "output_type": "stream",
     "text": [
      "    lastmonth_activity  lastyear_activity  number_of_employees  exited\n",
      "0                  100               1359                    1       0\n",
      "1                   68                282                   14       0\n",
      "2                   71                949                   40       1\n",
      "3                  686               3782                  103       0\n",
      "4                   45                655                    7       0\n",
      "5                    0                 18                   21       1\n",
      "6                  189                961                   18       1\n",
      "7                   16               1028                   33       0\n",
      "8                    9                 45                    1       1\n",
      "9                    0                 67                   14       1\n",
      "10                  48                986                   22       1\n",
      "11                  52                650                   11       1\n",
      "12                1090               2452                    9       0\n",
      "13                   6                 88                   90       1\n",
      "14                  99                390                   99       1\n",
      "15                  75                800                   81       1\n",
      "16                 255               1687                    2       0\n",
      "17                  78               1024                   12       1\n",
      "18                  14               2145                   20       0\n",
      "19                 182               3891                   35       0\n",
      "20                 101              10983                    2       1\n",
      "21                   0                118                   42       1\n",
      "22                 929               1992                    1       0\n",
      "23                  19                455                    8       1\n",
      "24                  94                868                    3       1\n",
      "25                  81               1401                   10       0\n",
      "(26, 3)\n",
      "(26,)\n"
     ]
    }
   ],
   "source": [
    "# Dropping specific columns for further modeling\n",
    "combined_df1= combined_df.copy()\n",
    "combined_df1.head(10)\n",
    "print(combined_df1)\n",
    "\n",
    "X=combined_df1.pop('exited')\n",
    "Y= combined_df1\n",
    "print (Y.shape)\n",
    "print (X.shape)"
   ]
  },
  {
   "cell_type": "code",
   "execution_count": 132,
   "id": "bdf9e65a",
   "metadata": {},
   "outputs": [
    {
     "name": "stdout",
     "output_type": "stream",
     "text": [
      "Printing the co-efficients : [[-0.00709661  0.00018846  0.02508652]]\n"
     ]
    }
   ],
   "source": [
    "# Splitting the dataset as Train and Test data. train a logistic regression model on this dataset, \n",
    "# predict the target variable for the test set, and print the coefficients of the trained model.\n",
    "X_train,X_test,y_train,y_test = train_test_split(Y,X,test_size=0.3,random_state=100)\n",
    "trained_model = LogisticRegression(solver='liblinear')\n",
    "trained_model.fit(X_train,y_train)\n",
    "print ('Printing the co-efficients :', trained_model.coef_)\n",
    "\n",
    "y_prediction = trained_model.predict(X_test)\n",
    "y_prediction_probability = trained_model.predict_proba(X_test)"
   ]
  },
  {
   "cell_type": "code",
   "execution_count": 133,
   "id": "43352b59",
   "metadata": {},
   "outputs": [
    {
     "name": "stdout",
     "output_type": "stream",
     "text": [
      "f1-score:  0.8589743589743589\n",
      "Recall:  0.875\n",
      "Precision:  0.8928571428571428\n",
      "Accuracy:  0.875\n",
      "Confusion-Matrix :\n",
      "  [[1 1]\n",
      " [0 6]]\n"
     ]
    },
    {
     "data": {
      "image/png": "[encoded data removed]",
      "text/plain": [
       "<Figure size 432x288 with 1 Axes>"
      ]
     },
     "metadata": {
      "needs_background": "light"
     },
     "output_type": "display_data"
    }
   ],
   "source": [
    "# Using sklearn-metrics the values of f1 socre, Recall, Precision and Acuracy are prined below. \n",
    "# The accuracy obtained is 90%\n",
    "from sklearn import metrics\n",
    "\n",
    "print(\"f1-score: \",metrics.f1_score(y_test,y_prediction, average='weighted'))\n",
    "print(\"Recall: \",metrics.recall_score(y_test,y_prediction, average='weighted'))\n",
    "print(\"Precision: \",metrics.precision_score(y_test,y_prediction, average='weighted'))\n",
    "print(\"Accuracy: \",metrics.accuracy_score(y_test,y_prediction))\n",
    "print(\"Confusion-Matrix :\\n \", metrics.confusion_matrix(y_test,y_prediction))\n",
    "\n",
    "\n",
    "import matplotlib.pyplot as plt\n",
    "import seaborn as sns\n",
    "\n",
    "# Compute the confusion matrix\n",
    "cm = metrics.confusion_matrix(y_test, y_prediction)\n",
    "\n",
    "# Plot the confusion matrix using seaborn heatmap\n",
    "sns.heatmap(cm, annot=True, cmap='Oranges', fmt='g', cbar=False, \n",
    "            xticklabels=['Class 1', 'Class 2', 'Class 3'], \n",
    "            yticklabels=['Class 1', 'Class 2', 'Class 3'])\n",
    "\n",
    "plt.xlabel('Predicted Label')\n",
    "plt.ylabel('True Label')\n",
    "plt.title('\\nConfusion Matrix')\n",
    "plt.show()\n"
   ]
  },
  {
   "cell_type": "code",
   "execution_count": 311,
   "id": "9d2b4c5f",
   "metadata": {},
   "outputs": [
    {
     "data": {
      "text/plain": [
       "LinearSVC(C=3, tol=0.001)"
      ]
     },
     "execution_count": 311,
     "metadata": {},
     "output_type": "execute_result"
    }
   ],
   "source": [
    "# training a linear support vector machine (SVM) model on this dataset using scikit-learn's \n",
    "# LinearSVC class with a specific tolerance value and regularization parameter.\n",
    "from sklearn.svm import LinearSVC\n",
    "\n",
    "support_vector = LinearSVC(tol=1e-3, C=3)\n",
    "support_vector.fit(X_train, y_train)\n"
   ]
  },
  {
   "cell_type": "code",
   "execution_count": 312,
   "id": "385c5f29",
   "metadata": {},
   "outputs": [
    {
     "name": "stdout",
     "output_type": "stream",
     "text": [
      "Train score: 0.5555555555555556\n",
      "Test score: 0.75\n"
     ]
    },
    {
     "data": {
      "image/png": "[encoded data removed]",
      "text/plain": [
       "<Figure size 720x360 with 4 Axes>"
      ]
     },
     "metadata": {
      "needs_background": "light"
     },
     "output_type": "display_data"
    }
   ],
   "source": [
    "# Printing the Train and Test score values.\n",
    "print(f\"Train score: {support_vector.score(X_train, y_train)}\")\n",
    "print(f\"Test score: {support_vector.score(X_test, y_test)}\")\n",
    "\n",
    "from sklearn.metrics import confusion_matrix\n",
    "import seaborn as sns\n",
    "\n",
    "# Get predictions\n",
    "y_train_pred = support_vector.predict(X_train)\n",
    "y_test_pred = support_vector.predict(X_test)\n",
    "\n",
    "# Compute confusion matrices\n",
    "train_cm = confusion_matrix(y_train, y_train_pred)\n",
    "test_cm = confusion_matrix(y_test, y_test_pred)\n",
    "\n",
    "# Plot confusion matrices as heatmaps for both Train and Test\n",
    "fig, ax = plt.subplots(ncols=2, figsize=(10, 5))\n",
    "sns.heatmap(train_cm, annot=True, fmt='d', cmap='Blues', ax=ax[0])\n",
    "sns.heatmap(test_cm, annot=True, fmt='d', cmap='viridis_r', ax=ax[1])\n",
    "ax[0].set_title('Train Confusion Matrix')\n",
    "ax[1].set_title('Test Confusion Matrix')\n",
    "ax[0].set_xlabel('Predicted Label')\n",
    "ax[1].set_xlabel('Predicted Label')\n",
    "ax[0].set_ylabel('True Label')\n",
    "ax[1].set_ylabel('True Label')\n",
    "plt.tight_layout()\n",
    "plt.show()\n",
    "\n"
   ]
  },
  {
   "cell_type": "code",
   "execution_count": 187,
   "id": "8d240038",
   "metadata": {},
   "outputs": [
    {
     "data": {
      "text/plain": [
       "DecisionTreeClassifier(max_depth=3, max_leaf_nodes=7)"
      ]
     },
     "execution_count": 187,
     "metadata": {},
     "output_type": "execute_result"
    }
   ],
   "source": [
    "# training a decision tree classifier model on this dataset using scikit-learn's DecisionTreeClassifier class \n",
    "# with a specific maximum depth and maximum leaf nodes.\n",
    "from sklearn.tree import DecisionTreeClassifier\n",
    "tree = DecisionTreeClassifier(max_depth=3, max_leaf_nodes=7)\n",
    "tree.fit(X_train, y_train)"
   ]
  },
  {
   "cell_type": "code",
   "execution_count": 188,
   "id": "ebe81f89",
   "metadata": {},
   "outputs": [
    {
     "name": "stdout",
     "output_type": "stream",
     "text": [
      "Train score: 0.9444444444444444\n",
      "Test score: 0.875\n"
     ]
    },
    {
     "data": {
      "image/png": "[encoded data removed]",
      "text/plain": [
       "<Figure size 432x288 with 1 Axes>"
      ]
     },
     "metadata": {
      "needs_background": "light"
     },
     "output_type": "display_data"
    }
   ],
   "source": [
    "# Train and Test accuracy\n",
    "print(f\"Train score: {tree.score(X_train, y_train)}\")\n",
    "print(f\"Test score: {tree.score(X_test, y_test)}\")\n",
    "\n",
    "# Plotting the graph to analyze test, train score\n",
    "import matplotlib.pyplot as plt\n",
    "\n",
    "train_scores = []\n",
    "test_scores = []\n",
    "max_leaf_nodes = [2, 3, 4, 5, 6]\n",
    "\n",
    "for leaf_nodes in max_leaf_nodes:\n",
    "    tree = DecisionTreeClassifier(max_depth=3, max_leaf_nodes=leaf_nodes)\n",
    "    tree.fit(X_train, y_train)\n",
    "    train_scores.append(tree.score(X_train, y_train))\n",
    "    test_scores.append(tree.score(X_test, y_test))\n",
    "\n",
    "plt.plot(max_leaf_nodes, train_scores, label=\"Train score\")\n",
    "plt.plot(max_leaf_nodes, test_scores, label=\"Test score\")\n",
    "plt.xlabel(\"Max Leaf Nodes\")\n",
    "plt.ylabel(\"Accuracy Score\")\n",
    "plt.legend()\n",
    "plt.show()\n",
    "\n"
   ]
  },
  {
   "cell_type": "code",
   "execution_count": 193,
   "id": "c35f8a62",
   "metadata": {},
   "outputs": [
    {
     "data": {
      "text/plain": [
       "RandomForestClassifier(max_depth=2, max_leaf_nodes=7)"
      ]
     },
     "execution_count": 193,
     "metadata": {},
     "output_type": "execute_result"
    }
   ],
   "source": [
    "# training a Random Forest classifier model on this dataset using scikit-learn's RandomForestClassifier class \n",
    "# with a specific maximum depth and maximum leaf nodes.\n",
    "from sklearn.ensemble import RandomForestClassifier\n",
    "forest = RandomForestClassifier(max_depth=2, max_leaf_nodes=7)\n",
    "forest.fit(X_train, y_train)"
   ]
  },
  {
   "cell_type": "code",
   "execution_count": 194,
   "id": "5c3dc745",
   "metadata": {},
   "outputs": [
    {
     "name": "stdout",
     "output_type": "stream",
     "text": [
      "Train score: 0.8888888888888888\n",
      "Test score: 0.875\n"
     ]
    },
    {
     "data": {
      "image/png": "[encoded data removed]",
      "text/plain": [
       "<Figure size 432x288 with 1 Axes>"
      ]
     },
     "metadata": {
      "needs_background": "light"
     },
     "output_type": "display_data"
    }
   ],
   "source": [
    "# Printing the Train, Test accuracy scores\n",
    "print(f\"Train score: {forest.score(X_train, y_train)}\")\n",
    "print(f\"Test score: {forest.score(X_test, y_test)}\")\n",
    "\n",
    "# Plotting the graph to analyze test, train score\n",
    "import matplotlib.pyplot as plt\n",
    "\n",
    "train_scores = []\n",
    "test_scores = []\n",
    "max_leaf_nodes = [2, 3, 4, 5, 6]\n",
    "\n",
    "for leaf_nodes in max_leaf_nodes:\n",
    "    forest = RandomForestClassifier(max_depth=3, max_leaf_nodes=leaf_nodes)\n",
    "    forest.fit(X_train, y_train)\n",
    "    train_scores.append(forest.score(X_train, y_train))\n",
    "    test_scores.append(forest.score(X_test, y_test))\n",
    "\n",
    "plt.plot(max_leaf_nodes, train_scores, label=\"Train score\")\n",
    "plt.plot(max_leaf_nodes, test_scores, label=\"Test score\")\n",
    "plt.xlabel(\"Max Leaf Nodes\")\n",
    "plt.ylabel(\"Accuracy Score\")\n",
    "plt.legend()\n",
    "plt.show()\n"
   ]
  },
  {
   "cell_type": "code",
   "execution_count": 313,
   "id": "02df44d9",
   "metadata": {},
   "outputs": [],
   "source": [
    "import pickle\n",
    "with open('model_pickle_employee', 'wb') as f:\n",
    "    pickle.dump(tree,f)\n",
    "    "
   ]
  },
  {
   "cell_type": "code",
   "execution_count": null,
   "id": "a5628ed8",
   "metadata": {},
   "outputs": [],
   "source": []
  }
 ],
 "metadata": {
  "kernelspec": {
   "display_name": "Python 3 (ipykernel)",
   "language": "python",
   "name": "python3"
  },
  "language_info": {
   "codemirror_mode": {
    "name": "ipython",
    "version": 3
   },
   "file_extension": ".py",
   "mimetype": "text/x-python",
   "name": "python",
   "nbconvert_exporter": "python",
   "pygments_lexer": "ipython3",
   "version": "3.9.12"
  }
 },
 "nbformat": 4,
 "nbformat_minor": 5
}
